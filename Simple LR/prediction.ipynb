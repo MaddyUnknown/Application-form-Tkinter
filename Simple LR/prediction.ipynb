{
 "cells": [
  {
   "cell_type": "markdown",
   "metadata": {},
   "source": [
    "Assuming csv file is present where,\n",
    "1st col('phy') is Physics marks\n",
    "2nd col('chem') is Chemistry marks\n",
    "3rd col('math') is Math marks\n",
    "4th col('result') is Accepted(1) or Rejected(0)"
   ]
  },
  {
   "cell_type": "code",
   "execution_count": 1,
   "metadata": {},
   "outputs": [],
   "source": [
    "import pandas as pd\n",
    "import numpy as np\n",
    "import math\n",
    "import matplotlib.pyplot as plt"
   ]
  },
  {
   "cell_type": "code",
   "execution_count": 2,
   "metadata": {},
   "outputs": [],
   "source": [
    "data = pd.read_csv('Marksheet.csv')"
   ]
  },
  {
   "cell_type": "code",
   "execution_count": 3,
   "metadata": {},
   "outputs": [
    {
     "data": {
      "text/html": [
       "<div>\n",
       "<style scoped>\n",
       "    .dataframe tbody tr th:only-of-type {\n",
       "        vertical-align: middle;\n",
       "    }\n",
       "\n",
       "    .dataframe tbody tr th {\n",
       "        vertical-align: top;\n",
       "    }\n",
       "\n",
       "    .dataframe thead th {\n",
       "        text-align: right;\n",
       "    }\n",
       "</style>\n",
       "<table border=\"1\" class=\"dataframe\">\n",
       "  <thead>\n",
       "    <tr style=\"text-align: right;\">\n",
       "      <th></th>\n",
       "      <th>phy</th>\n",
       "      <th>chem</th>\n",
       "      <th>math</th>\n",
       "      <th>result</th>\n",
       "    </tr>\n",
       "  </thead>\n",
       "  <tbody>\n",
       "    <tr>\n",
       "      <th>0</th>\n",
       "      <td>60.59</td>\n",
       "      <td>77.15</td>\n",
       "      <td>82.08</td>\n",
       "      <td>1</td>\n",
       "    </tr>\n",
       "    <tr>\n",
       "      <th>1</th>\n",
       "      <td>9.80</td>\n",
       "      <td>18.01</td>\n",
       "      <td>42.39</td>\n",
       "      <td>0</td>\n",
       "    </tr>\n",
       "    <tr>\n",
       "      <th>2</th>\n",
       "      <td>87.45</td>\n",
       "      <td>74.45</td>\n",
       "      <td>63.73</td>\n",
       "      <td>1</td>\n",
       "    </tr>\n",
       "    <tr>\n",
       "      <th>3</th>\n",
       "      <td>10.43</td>\n",
       "      <td>59.69</td>\n",
       "      <td>49.26</td>\n",
       "      <td>0</td>\n",
       "    </tr>\n",
       "    <tr>\n",
       "      <th>4</th>\n",
       "      <td>98.68</td>\n",
       "      <td>98.99</td>\n",
       "      <td>72.09</td>\n",
       "      <td>1</td>\n",
       "    </tr>\n",
       "  </tbody>\n",
       "</table>\n",
       "</div>"
      ],
      "text/plain": [
       "     phy   chem   math  result\n",
       "0  60.59  77.15  82.08       1\n",
       "1   9.80  18.01  42.39       0\n",
       "2  87.45  74.45  63.73       1\n",
       "3  10.43  59.69  49.26       0\n",
       "4  98.68  98.99  72.09       1"
      ]
     },
     "execution_count": 3,
     "metadata": {},
     "output_type": "execute_result"
    }
   ],
   "source": [
    "data.head()"
   ]
  },
  {
   "cell_type": "code",
   "execution_count": 4,
   "metadata": {},
   "outputs": [],
   "source": [
    "Y=data.result\n",
    "X=data.drop('result',axis=1)"
   ]
  },
  {
   "cell_type": "code",
   "execution_count": 5,
   "metadata": {},
   "outputs": [],
   "source": [
    "X,Y = X.to_numpy(), Y.to_numpy()"
   ]
  },
  {
   "cell_type": "code",
   "execution_count": 6,
   "metadata": {},
   "outputs": [],
   "source": [
    "Y = Y.reshape((-1,1))"
   ]
  },
  {
   "cell_type": "code",
   "execution_count": 7,
   "metadata": {},
   "outputs": [
    {
     "name": "stdout",
     "output_type": "stream",
     "text": [
      "(2000, 3) (2000, 1)\n",
      "(3, 2000) (1, 2000)\n"
     ]
    }
   ],
   "source": [
    "print(X.shape, Y.shape)\n",
    "X,Y = X.T, Y.T\n",
    "print(X.shape, Y.shape)"
   ]
  },
  {
   "cell_type": "code",
   "execution_count": 8,
   "metadata": {},
   "outputs": [],
   "source": [
    "X_train, X_test = X[:,:800], X[:,801:]\n",
    "Y_train, Y_test = Y[:,:800], Y[:,801:]"
   ]
  },
  {
   "cell_type": "code",
   "execution_count": 9,
   "metadata": {},
   "outputs": [
    {
     "name": "stdout",
     "output_type": "stream",
     "text": [
      "The shape of X is: (3, 800)\n",
      "The shape of Y is: (1, 800)\n",
      "I have m = 800 training examples!\n"
     ]
    }
   ],
   "source": [
    "shape_X = X_train.shape\n",
    "shape_Y = Y_train.shape\n",
    "m = X_train.shape[1] # training set size\n",
    "\n",
    "print ('The shape of X is: ' + str(shape_X))\n",
    "print ('The shape of Y is: ' + str(shape_Y))\n",
    "print ('I have m = %d training examples!' % (m))"
   ]
  },
  {
   "cell_type": "code",
   "execution_count": 11,
   "metadata": {},
   "outputs": [],
   "source": [
    "def sigmoid(x):\n",
    "    return  1 / (1+ np.exp(-x))"
   ]
  },
  {
   "cell_type": "code",
   "execution_count": 12,
   "metadata": {},
   "outputs": [],
   "source": [
    "def initialize_with_zeros(dim):\n",
    "    w = np.zeros((dim, 1))\n",
    "    b = 0\n",
    "\n",
    "    assert(w.shape == (dim, 1))\n",
    "    assert(isinstance(b, float) or isinstance(b, int))\n",
    "    \n",
    "    return w, b"
   ]
  },
  {
   "cell_type": "code",
   "execution_count": 13,
   "metadata": {},
   "outputs": [],
   "source": [
    "def propagate(w, b, X, Y):\n",
    "    m = X.shape[1]\n",
    "    \n",
    "    # FORWARD PROPAGATION (FROM X TO COST)\n",
    "    A = sigmoid((w.T @ X) + b)                                    # compute activation\n",
    "    cost = (- 1/m) * np.sum(Y*np.log(A) + (1-Y)*(np.log(1-A)))                             # compute cost\n",
    "\n",
    "    \n",
    "    # BACKWARD PROPAGATION (TO FIND GRAD)\n",
    "    dw = (1/m) * (X @ (A-Y).T)\n",
    "    db = (1/m) * np.sum(A - Y)\n",
    "\n",
    "    assert(dw.shape == w.shape)\n",
    "    assert(db.dtype == float)\n",
    "    cost = np.squeeze(cost)\n",
    "    assert(cost.shape == ())\n",
    "    \n",
    "    grads = {\"dw\": dw,\n",
    "             \"db\": db}\n",
    "    \n",
    "    return grads, cost"
   ]
  },
  {
   "cell_type": "code",
   "execution_count": 14,
   "metadata": {},
   "outputs": [],
   "source": [
    "def optimize(w, b, X, Y, num_iterations, learning_rate, print_cost = False):\n",
    "    \"\"\"\n",
    "    This function optimizes w and b by running a gradient descent algorithm\n",
    " \n",
    "    \"\"\"\n",
    "    \n",
    "    costs = []\n",
    "    \n",
    "    for i in range(num_iterations):\n",
    "        \n",
    "        \n",
    "        # Cost and gradient calculation (≈ 1-4 lines of code)\n",
    "        grads, cost = propagate(w, b, X, Y)\n",
    "        \n",
    "        # Retrieve derivatives from grads\n",
    "        dw = grads[\"dw\"]\n",
    "        db = grads[\"db\"]\n",
    "        \n",
    "        # update rule (≈ 2 lines of code)\n",
    "        w = w - learning_rate*dw\n",
    "        b = b - learning_rate*db\n",
    "        \n",
    "        # Record the costs\n",
    "        if i % 100 == 0:\n",
    "            costs.append(cost)\n",
    "        \n",
    "        # Print the cost every 100 training iterations\n",
    "        if print_cost and i % 100 == 0:\n",
    "            print (\"Cost after iteration %i: %f\" %(i, cost))\n",
    "    \n",
    "    params = {\"w\": w,\n",
    "              \"b\": b}\n",
    "    \n",
    "    grads = {\"dw\": dw,\n",
    "             \"db\": db}\n",
    "    \n",
    "    return params, grads, costs"
   ]
  },
  {
   "cell_type": "code",
   "execution_count": 15,
   "metadata": {},
   "outputs": [],
   "source": [
    "def predict(w, b, X):\n",
    "    '''\n",
    "    Predict whether the label is 0 or 1 using learned logistic regression parameters (w, b)\n",
    "    \n",
    "    '''\n",
    "    \n",
    "    m = X.shape[1]\n",
    "    Y_prediction = np.zeros((1,m))\n",
    "    w = w.reshape(X.shape[0], 1)\n",
    "    \n",
    "    # Compute vector \"A\" predicting the probabilities of a cat being present in the picture\n",
    "    A = sigmoid((w.T @ X) + b)\n",
    "    \n",
    "    for i in range(A.shape[1]):\n",
    "        \n",
    "        # Convert probabilities A[0,i] to actual predictions p[0,i]\n",
    "        Y_prediction = np.trunc(A + np.copysign(0.5, A)) #doesn't needs to be in a for loop\n",
    "    \n",
    "    assert(Y_prediction.shape == (1, m))\n",
    "    \n",
    "    return Y_prediction"
   ]
  },
  {
   "cell_type": "code",
   "execution_count": 16,
   "metadata": {},
   "outputs": [],
   "source": [
    "def model(X_train, Y_train, X_test, Y_test, num_iterations = 2000, learning_rate = 0.5, print_cost = False):\n",
    "    \"\"\"\n",
    "    Builds the logistic regression model by calling the function you've implemented previously\n",
    "    \n",
    "    Arguments:\n",
    "    X_train -- training set represented by a numpy array of shape (num_px * num_px * 3, m_train)\n",
    "    Y_train -- training labels represented by a numpy array (vector) of shape (1, m_train)\n",
    "    X_test -- test set represented by a numpy array of shape (num_px * num_px * 3, m_test)\n",
    "    Y_test -- test labels represented by a numpy array (vector) of shape (1, m_test)\n",
    "    num_iterations -- hyperparameter representing the number of iterations to optimize the parameters\n",
    "    learning_rate -- hyperparameter representing the learning rate used in the update rule of optimize()\n",
    "    print_cost -- Set to true to print the cost every 100 iterations\n",
    "    \n",
    "    Returns:\n",
    "    d -- dictionary containing information about the model.\n",
    "    \"\"\"\n",
    "    \n",
    "    # initialize parameters with zeros (≈ 1 line of code)\n",
    "    w, b = initialize_with_zeros(X_train.shape[0])\n",
    "\n",
    "    # Gradient descent (≈ 1 line of code)\n",
    "    parameters, grads, costs = optimize(w, b, X_train, Y_train, num_iterations, learning_rate, print_cost)\n",
    "    \n",
    "    # Retrieve parameters w and b from dictionary \"parameters\"\n",
    "    w = parameters[\"w\"]\n",
    "    b = parameters[\"b\"]\n",
    "    \n",
    "    # Predict test/train set examples (≈ 2 lines of code)\n",
    "    Y_prediction_test = predict(w, b, X_test)\n",
    "    Y_prediction_train = predict(w, b, X_train)\n",
    "\n",
    "\n",
    "    # Print train/test Errors\n",
    "    print(\"train accuracy: {} %\".format(100 - np.mean(np.abs(Y_prediction_train - Y_train)) * 100))\n",
    "    print(\"test accuracy: {} %\".format(100 - np.mean(np.abs(Y_prediction_test - Y_test)) * 100))\n",
    "\n",
    "    \n",
    "    d = {\"costs\": costs,\n",
    "         \"Y_prediction_test\": Y_prediction_test, \n",
    "         \"Y_prediction_train\" : Y_prediction_train, \n",
    "         \"w\" : w, \n",
    "         \"b\" : b,\n",
    "         \"learning_rate\" : learning_rate,\n",
    "         \"num_iterations\": num_iterations}\n",
    "    \n",
    "    return d"
   ]
  },
  {
   "cell_type": "code",
   "execution_count": 60,
   "metadata": {},
   "outputs": [
    {
     "name": "stdout",
     "output_type": "stream",
     "text": [
      "learning rate is: 0.01\n"
     ]
    },
    {
     "name": "stderr",
     "output_type": "stream",
     "text": [
      "C:\\Users\\malli\\Anaconda3\\lib\\site-packages\\ipykernel_launcher.py:6: RuntimeWarning: divide by zero encountered in log\n",
      "  \n",
      "C:\\Users\\malli\\Anaconda3\\lib\\site-packages\\ipykernel_launcher.py:6: RuntimeWarning: invalid value encountered in multiply\n",
      "  \n"
     ]
    },
    {
     "name": "stdout",
     "output_type": "stream",
     "text": [
      "train accuracy: 100.0 %\n",
      "test accuracy: 99.91659716430358 %\n",
      "\n",
      "-------------------------------------------------------\n",
      "\n",
      "learning rate is: 0.001\n",
      "train accuracy: 97.625 %\n",
      "test accuracy: 97.74812343619683 %\n",
      "\n",
      "-------------------------------------------------------\n",
      "\n",
      "learning rate is: 0.0001\n",
      "train accuracy: 67.375 %\n",
      "test accuracy: 64.22018348623854 %\n",
      "\n",
      "-------------------------------------------------------\n",
      "\n"
     ]
    },
    {
     "data": {
      "image/png": "[encoded data removed]",
      "text/plain": [
       "<Figure size 432x288 with 1 Axes>"
      ]
     },
     "metadata": {
      "needs_background": "light"
     },
     "output_type": "display_data"
    }
   ],
   "source": [
    "learning_rates = [0.01, 0.001, 0.0001]\n",
    "models = {}\n",
    "for i in learning_rates:\n",
    "    print (\"learning rate is: \" + str(i))\n",
    "    models[str(i)] = model(X_train, Y_train, X_test, Y_test, num_iterations = 30000, learning_rate = i, print_cost = False)\n",
    "    print ('\\n' + \"-------------------------------------------------------\" + '\\n')\n",
    "\n",
    "for i in learning_rates:\n",
    "    plt.plot(np.squeeze(models[str(i)][\"costs\"]), label= str(models[str(i)][\"learning_rate\"]))\n",
    "\n",
    "plt.ylabel('cost')\n",
    "plt.xlabel('iterations (hundreds)')\n",
    "\n",
    "legend = plt.legend(loc='upper center', shadow=True)\n",
    "frame = legend.get_frame()\n",
    "frame.set_facecolor('0.90')\n",
    "plt.show()"
   ]
  },
  {
   "cell_type": "code",
   "execution_count": 61,
   "metadata": {},
   "outputs": [
    {
     "name": "stdout",
     "output_type": "stream",
     "text": [
      "Cost after iteration 0: 0.693147\n",
      "Cost after iteration 100: nan\n",
      "Cost after iteration 200: nan\n",
      "Cost after iteration 300: nan\n",
      "Cost after iteration 400: nan\n",
      "Cost after iteration 500: nan\n",
      "Cost after iteration 600: nan\n",
      "Cost after iteration 700: nan\n",
      "Cost after iteration 800: nan\n",
      "Cost after iteration 900: nan\n",
      "Cost after iteration 1000: nan\n",
      "Cost after iteration 1100: nan\n",
      "Cost after iteration 1200: nan\n",
      "Cost after iteration 1300: nan\n",
      "Cost after iteration 1400: nan\n",
      "Cost after iteration 1500: nan\n",
      "Cost after iteration 1600: nan\n",
      "Cost after iteration 1700: nan\n"
     ]
    },
    {
     "name": "stderr",
     "output_type": "stream",
     "text": [
      "C:\\Users\\malli\\Anaconda3\\lib\\site-packages\\ipykernel_launcher.py:6: RuntimeWarning: divide by zero encountered in log\n",
      "  \n",
      "C:\\Users\\malli\\Anaconda3\\lib\\site-packages\\ipykernel_launcher.py:6: RuntimeWarning: invalid value encountered in multiply\n",
      "  \n"
     ]
    },
    {
     "name": "stdout",
     "output_type": "stream",
     "text": [
      "Cost after iteration 1800: nan\n",
      "Cost after iteration 1900: nan\n",
      "Cost after iteration 2000: nan\n",
      "Cost after iteration 2100: nan\n",
      "Cost after iteration 2200: nan\n",
      "Cost after iteration 2300: nan\n",
      "Cost after iteration 2400: nan\n",
      "Cost after iteration 2500: nan\n",
      "Cost after iteration 2600: nan\n",
      "Cost after iteration 2700: nan\n",
      "Cost after iteration 2800: nan\n",
      "Cost after iteration 2900: nan\n",
      "Cost after iteration 3000: nan\n",
      "Cost after iteration 3100: nan\n",
      "Cost after iteration 3200: nan\n",
      "Cost after iteration 3300: nan\n",
      "Cost after iteration 3400: nan\n",
      "Cost after iteration 3500: nan\n",
      "Cost after iteration 3600: nan\n",
      "Cost after iteration 3700: nan\n",
      "Cost after iteration 3800: nan\n",
      "Cost after iteration 3900: nan\n",
      "Cost after iteration 4000: nan\n",
      "Cost after iteration 4100: nan\n",
      "Cost after iteration 4200: nan\n",
      "Cost after iteration 4300: nan\n",
      "Cost after iteration 4400: nan\n",
      "Cost after iteration 4500: nan\n",
      "Cost after iteration 4600: nan\n",
      "Cost after iteration 4700: nan\n",
      "Cost after iteration 4800: nan\n",
      "Cost after iteration 4900: nan\n",
      "Cost after iteration 5000: 0.148593\n",
      "Cost after iteration 5100: 0.333017\n",
      "Cost after iteration 5200: nan\n",
      "Cost after iteration 5300: 0.764433\n",
      "Cost after iteration 5400: 0.029687\n",
      "Cost after iteration 5500: 0.703418\n",
      "Cost after iteration 5600: 0.078385\n",
      "Cost after iteration 5700: 0.026944\n",
      "Cost after iteration 5800: 0.024538\n",
      "Cost after iteration 5900: 0.024203\n",
      "Cost after iteration 6000: 0.024066\n",
      "Cost after iteration 6100: 0.024000\n",
      "Cost after iteration 6200: 0.023962\n",
      "Cost after iteration 6300: 0.023933\n",
      "Cost after iteration 6400: 0.023906\n",
      "Cost after iteration 6500: 0.023880\n",
      "Cost after iteration 6600: 0.023853\n",
      "Cost after iteration 6700: 0.023827\n",
      "Cost after iteration 6800: 0.023800\n",
      "Cost after iteration 6900: 0.023774\n",
      "Cost after iteration 7000: 0.023748\n",
      "Cost after iteration 7100: 0.023721\n",
      "Cost after iteration 7200: 0.023695\n",
      "Cost after iteration 7300: 0.023669\n",
      "Cost after iteration 7400: 0.023643\n",
      "Cost after iteration 7500: 0.023617\n",
      "Cost after iteration 7600: 0.023592\n",
      "Cost after iteration 7700: 0.023566\n",
      "Cost after iteration 7800: 0.023540\n",
      "Cost after iteration 7900: 0.023514\n",
      "Cost after iteration 8000: 0.023489\n",
      "Cost after iteration 8100: 0.023463\n",
      "Cost after iteration 8200: 0.023438\n",
      "Cost after iteration 8300: 0.023413\n",
      "Cost after iteration 8400: 0.023387\n",
      "Cost after iteration 8500: 0.023362\n",
      "Cost after iteration 8600: 0.023337\n",
      "Cost after iteration 8700: 0.023312\n",
      "Cost after iteration 8800: 0.023287\n",
      "Cost after iteration 8900: 0.023262\n",
      "Cost after iteration 9000: 0.023237\n",
      "Cost after iteration 9100: 0.023212\n",
      "Cost after iteration 9200: 0.023187\n",
      "Cost after iteration 9300: 0.023163\n",
      "Cost after iteration 9400: 0.023138\n",
      "Cost after iteration 9500: 0.023113\n",
      "Cost after iteration 9600: 0.023089\n",
      "Cost after iteration 9700: 0.023065\n",
      "Cost after iteration 9800: 0.023040\n",
      "Cost after iteration 9900: 0.023016\n",
      "Cost after iteration 10000: 0.022992\n",
      "Cost after iteration 10100: 0.022967\n",
      "Cost after iteration 10200: 0.022943\n",
      "Cost after iteration 10300: 0.022919\n",
      "Cost after iteration 10400: 0.022895\n",
      "Cost after iteration 10500: 0.022871\n",
      "Cost after iteration 10600: 0.022848\n",
      "Cost after iteration 10700: 0.022824\n",
      "Cost after iteration 10800: 0.022800\n",
      "Cost after iteration 10900: 0.022776\n",
      "Cost after iteration 11000: 0.022753\n",
      "Cost after iteration 11100: 0.022729\n",
      "Cost after iteration 11200: 0.022706\n",
      "Cost after iteration 11300: 0.022682\n",
      "Cost after iteration 11400: 0.022659\n",
      "Cost after iteration 11500: 0.022635\n",
      "Cost after iteration 11600: 0.022612\n",
      "Cost after iteration 11700: 0.022589\n",
      "Cost after iteration 11800: 0.022566\n",
      "Cost after iteration 11900: 0.022543\n",
      "Cost after iteration 12000: 0.022520\n",
      "Cost after iteration 12100: 0.022497\n",
      "Cost after iteration 12200: 0.022474\n",
      "Cost after iteration 12300: 0.022451\n",
      "Cost after iteration 12400: 0.022428\n",
      "Cost after iteration 12500: 0.022406\n",
      "Cost after iteration 12600: 0.022383\n",
      "Cost after iteration 12700: 0.022360\n",
      "Cost after iteration 12800: 0.022338\n",
      "Cost after iteration 12900: 0.022315\n",
      "Cost after iteration 13000: 0.022293\n",
      "Cost after iteration 13100: 0.022270\n",
      "Cost after iteration 13200: 0.022248\n",
      "Cost after iteration 13300: 0.022226\n",
      "Cost after iteration 13400: 0.022204\n",
      "Cost after iteration 13500: 0.022181\n",
      "Cost after iteration 13600: 0.022159\n",
      "Cost after iteration 13700: 0.022137\n",
      "Cost after iteration 13800: 0.022115\n",
      "Cost after iteration 13900: 0.022093\n",
      "Cost after iteration 14000: 0.022071\n",
      "Cost after iteration 14100: 0.022050\n",
      "Cost after iteration 14200: 0.022028\n",
      "Cost after iteration 14300: 0.022006\n",
      "Cost after iteration 14400: 0.021984\n",
      "Cost after iteration 14500: 0.021963\n",
      "Cost after iteration 14600: 0.021941\n",
      "Cost after iteration 14700: 0.021920\n",
      "Cost after iteration 14800: 0.021898\n",
      "Cost after iteration 14900: 0.021877\n",
      "Cost after iteration 15000: 0.021855\n",
      "Cost after iteration 15100: 0.021834\n",
      "Cost after iteration 15200: 0.021813\n",
      "Cost after iteration 15300: 0.021792\n",
      "Cost after iteration 15400: 0.021770\n",
      "Cost after iteration 15500: 0.021749\n",
      "Cost after iteration 15600: 0.021728\n",
      "Cost after iteration 15700: 0.021707\n",
      "Cost after iteration 15800: 0.021686\n",
      "Cost after iteration 15900: 0.021665\n",
      "Cost after iteration 16000: 0.021645\n",
      "Cost after iteration 16100: 0.021624\n",
      "Cost after iteration 16200: 0.021603\n",
      "Cost after iteration 16300: 0.021582\n",
      "Cost after iteration 16400: 0.021562\n",
      "Cost after iteration 16500: 0.021541\n",
      "Cost after iteration 16600: 0.021520\n",
      "Cost after iteration 16700: 0.021500\n",
      "Cost after iteration 16800: 0.021479\n",
      "Cost after iteration 16900: 0.021459\n",
      "Cost after iteration 17000: 0.021439\n",
      "Cost after iteration 17100: 0.021418\n",
      "Cost after iteration 17200: 0.021398\n",
      "Cost after iteration 17300: 0.021378\n",
      "Cost after iteration 17400: 0.021358\n",
      "Cost after iteration 17500: 0.021338\n",
      "Cost after iteration 17600: 0.021318\n",
      "Cost after iteration 17700: 0.021297\n",
      "Cost after iteration 17800: 0.021277\n",
      "Cost after iteration 17900: 0.021258\n",
      "Cost after iteration 18000: 0.021238\n",
      "Cost after iteration 18100: 0.021218\n",
      "Cost after iteration 18200: 0.021198\n",
      "Cost after iteration 18300: 0.021178\n",
      "Cost after iteration 18400: 0.021159\n",
      "Cost after iteration 18500: 0.021139\n",
      "Cost after iteration 18600: 0.021119\n",
      "Cost after iteration 18700: 0.021100\n",
      "Cost after iteration 18800: 0.021080\n",
      "Cost after iteration 18900: 0.021061\n",
      "Cost after iteration 19000: 0.021041\n",
      "Cost after iteration 19100: 0.021022\n",
      "Cost after iteration 19200: 0.021003\n",
      "Cost after iteration 19300: 0.020983\n",
      "Cost after iteration 19400: 0.020964\n",
      "Cost after iteration 19500: 0.020945\n",
      "Cost after iteration 19600: 0.020926\n",
      "Cost after iteration 19700: 0.020906\n",
      "Cost after iteration 19800: 0.020887\n",
      "Cost after iteration 19900: 0.020868\n",
      "Cost after iteration 20000: 0.020849\n",
      "Cost after iteration 20100: 0.020830\n",
      "Cost after iteration 20200: 0.020811\n",
      "Cost after iteration 20300: 0.020793\n",
      "Cost after iteration 20400: 0.020774\n",
      "Cost after iteration 20500: 0.020755\n",
      "Cost after iteration 20600: 0.020736\n",
      "Cost after iteration 20700: 0.020717\n",
      "Cost after iteration 20800: 0.020699\n",
      "Cost after iteration 20900: 0.020680\n",
      "Cost after iteration 21000: 0.020662\n",
      "Cost after iteration 21100: 0.020643\n",
      "Cost after iteration 21200: 0.020625\n",
      "Cost after iteration 21300: 0.020606\n",
      "Cost after iteration 21400: 0.020588\n",
      "Cost after iteration 21500: 0.020569\n",
      "Cost after iteration 21600: 0.020551\n",
      "Cost after iteration 21700: 0.020533\n",
      "Cost after iteration 21800: 0.020515\n",
      "Cost after iteration 21900: 0.020496\n",
      "Cost after iteration 22000: 0.020478\n",
      "Cost after iteration 22100: 0.020460\n",
      "Cost after iteration 22200: 0.020442\n",
      "Cost after iteration 22300: 0.020424\n",
      "Cost after iteration 22400: 0.020406\n",
      "Cost after iteration 22500: 0.020388\n",
      "Cost after iteration 22600: 0.020370\n",
      "Cost after iteration 22700: 0.020352\n",
      "Cost after iteration 22800: 0.020334\n",
      "Cost after iteration 22900: 0.020316\n",
      "Cost after iteration 23000: 0.020299\n",
      "Cost after iteration 23100: 0.020281\n",
      "Cost after iteration 23200: 0.020263\n",
      "Cost after iteration 23300: 0.020246\n",
      "Cost after iteration 23400: 0.020228\n",
      "Cost after iteration 23500: 0.020210\n",
      "Cost after iteration 23600: 0.020193\n",
      "Cost after iteration 23700: 0.020175\n",
      "Cost after iteration 23800: 0.020158\n",
      "Cost after iteration 23900: 0.020140\n",
      "Cost after iteration 24000: 0.020123\n",
      "Cost after iteration 24100: 0.020106\n",
      "Cost after iteration 24200: 0.020088\n",
      "Cost after iteration 24300: 0.020071\n",
      "Cost after iteration 24400: 0.020054\n",
      "Cost after iteration 24500: 0.020037\n",
      "Cost after iteration 24600: 0.020019\n",
      "Cost after iteration 24700: 0.020002\n",
      "Cost after iteration 24800: 0.019985\n",
      "Cost after iteration 24900: 0.019968\n",
      "Cost after iteration 25000: 0.019951\n",
      "Cost after iteration 25100: 0.019934\n",
      "Cost after iteration 25200: 0.019917\n",
      "Cost after iteration 25300: 0.019900\n",
      "Cost after iteration 25400: 0.019883\n",
      "Cost after iteration 25500: 0.019866\n",
      "Cost after iteration 25600: 0.019850\n",
      "Cost after iteration 25700: 0.019833\n",
      "Cost after iteration 25800: 0.019816\n",
      "Cost after iteration 25900: 0.019799\n",
      "Cost after iteration 26000: 0.019783\n",
      "Cost after iteration 26100: 0.019766\n",
      "Cost after iteration 26200: 0.019750\n",
      "Cost after iteration 26300: 0.019733\n",
      "Cost after iteration 26400: 0.019716\n",
      "Cost after iteration 26500: 0.019700\n",
      "Cost after iteration 26600: 0.019683\n",
      "Cost after iteration 26700: 0.019667\n",
      "Cost after iteration 26800: 0.019651\n",
      "Cost after iteration 26900: 0.019634\n",
      "Cost after iteration 27000: 0.019618\n",
      "Cost after iteration 27100: 0.019602\n",
      "Cost after iteration 27200: 0.019585\n",
      "Cost after iteration 27300: 0.019569\n",
      "Cost after iteration 27400: 0.019553\n",
      "Cost after iteration 27500: 0.019537\n",
      "Cost after iteration 27600: 0.019521\n",
      "Cost after iteration 27700: 0.019505\n",
      "Cost after iteration 27800: 0.019489\n",
      "Cost after iteration 27900: 0.019473\n",
      "Cost after iteration 28000: 0.019457\n",
      "Cost after iteration 28100: 0.019441\n",
      "Cost after iteration 28200: 0.019425\n",
      "Cost after iteration 28300: 0.019409\n",
      "Cost after iteration 28400: 0.019393\n",
      "Cost after iteration 28500: 0.019377\n",
      "Cost after iteration 28600: 0.019361\n",
      "Cost after iteration 28700: 0.019345\n",
      "Cost after iteration 28800: 0.019330\n",
      "Cost after iteration 28900: 0.019314\n",
      "Cost after iteration 29000: 0.019298\n",
      "Cost after iteration 29100: 0.019283\n",
      "Cost after iteration 29200: 0.019267\n",
      "Cost after iteration 29300: 0.019252\n",
      "Cost after iteration 29400: 0.019236\n",
      "Cost after iteration 29500: 0.019220\n",
      "Cost after iteration 29600: 0.019205\n",
      "Cost after iteration 29700: 0.019189\n",
      "Cost after iteration 29800: 0.019174\n",
      "Cost after iteration 29900: 0.019159\n",
      "train accuracy: 100.0 %\n",
      "test accuracy: 99.91659716430358 %\n"
     ]
    }
   ],
   "source": [
    "d = model(X_train, Y_train, X_test, Y_test, num_iterations = 30000, learning_rate = 0.01, print_cost = True)"
   ]
  },
  {
   "cell_type": "code",
   "execution_count": 62,
   "metadata": {},
   "outputs": [
    {
     "data": {
      "image/png": "[encoded data removed]",
      "text/plain": [
       "<Figure size 432x288 with 1 Axes>"
      ]
     },
     "metadata": {
      "needs_background": "light"
     },
     "output_type": "display_data"
    }
   ],
   "source": [
    "costs = np.squeeze(d['costs'])\n",
    "plt.plot(costs)\n",
    "plt.ylabel('cost')\n",
    "plt.xlabel('iterations (per hundreds)')\n",
    "plt.title(\"Learning rate =\" + str(d[\"learning_rate\"]))\n",
    "plt.show()"
   ]
  },
  {
   "cell_type": "code",
   "execution_count": 63,
   "metadata": {},
   "outputs": [
    {
     "name": "stdout",
     "output_type": "stream",
     "text": [
      "Enter your marks (phy, chem, math)\n"
     ]
    },
    {
     "name": "stdin",
     "output_type": "stream",
     "text": [
      " 80 70 40\n"
     ]
    }
   ],
   "source": [
    "print('Enter your marks (phy, chem, math)')\n",
    "A = arr = [round(float(i),2) for i in input().split()]\n",
    "A = np.array(A)\n",
    "A = A.reshape((-1,1))"
   ]
  },
  {
   "cell_type": "code",
   "execution_count": 64,
   "metadata": {},
   "outputs": [
    {
     "name": "stdout",
     "output_type": "stream",
     "text": [
      "Your probability of getting accepted into the college is:  [[78.30440535]]\n"
     ]
    }
   ],
   "source": [
    "prob = sigmoid((d['w'].T @ A) + d['b'])\n",
    "print('Your probability of getting accepted into the college is:  ' + str(prob * 100))"
   ]
  },
  {
   "cell_type": "code",
   "execution_count": null,
   "metadata": {},
   "outputs": [],
   "source": []
  }
 ],
 "metadata": {
  "kernelspec": {
   "display_name": "Python 3",
   "language": "python",
   "name": "python3"
  },
  "language_info": {
   "codemirror_mode": {
    "name": "ipython",
    "version": 3
   },
   "file_extension": ".py",
   "mimetype": "text/x-python",
   "name": "python",
   "nbconvert_exporter": "python",
   "pygments_lexer": "ipython3",
   "version": "3.7.3"
  }
 },
 "nbformat": 4,
 "nbformat_minor": 4
}
